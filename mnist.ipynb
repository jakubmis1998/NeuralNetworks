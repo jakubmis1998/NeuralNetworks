{
  "nbformat": 4,
  "nbformat_minor": 0,
  "metadata": {
    "colab": {
      "name": "mnist.ipynb",
      "provenance": [],
      "collapsed_sections": [],
      "authorship_tag": "ABX9TyOeXwP+Jzg1dTHWCV4NHOzC",
      "include_colab_link": true
    },
    "kernelspec": {
      "name": "python3",
      "display_name": "Python 3"
    }
  },
  "cells": [
    {
      "cell_type": "markdown",
      "metadata": {
        "id": "view-in-github",
        "colab_type": "text"
      },
      "source": [
        "<a href=\"https://colab.research.google.com/github/jakubmis1998/NeuralNetworks/blob/main/mnist.ipynb\" target=\"_parent\"><img src=\"https://colab.research.google.com/assets/colab-badge.svg\" alt=\"Open In Colab\"/></a>"
      ]
    },
    {
      "cell_type": "code",
      "metadata": {
        "id": "HP_MSi8kavv8",
        "outputId": "bce8a9b6-71e5-460f-9f24-dd5c4d12caba",
        "colab": {
          "base_uri": "https://localhost:8080/",
          "height": 335
        }
      },
      "source": [
        "# Splitting all pictures to array with single pictures\n",
        "\n",
        "import keras.preprocessing.image as kpi\n",
        "from matplotlib import pyplot as plt\n",
        "import numpy as np\n",
        "\n",
        "def show_image(img):\n",
        "  \"\"\"Show image from NumPy array\"\"\"\n",
        "  plt.imshow(img)\n",
        "\n",
        "if __name__ == \"__main__\":\n",
        "  # An 2D array of single pictures\n",
        "  images = np.array([])\n",
        "\n",
        "  # Load the main image\n",
        "  main_img = kpi.load_img('mnist.png')\n",
        "\n",
        "  # Convert to numpy array\n",
        "  all_images = kpi.img_to_array(main_img)  # RGB 0-255 values\n",
        "  all_images /= 255  # RGB 0-1 values\n",
        "\n",
        "  # 70 x 40 x 3 - H x W x RGB\n",
        "  array_shape = all_images.shape\n",
        "  rows, columns = 10, 8\n",
        "  # 7 x 5 x 3 - H x W x RGB\n",
        "  single_img_shape = (array_shape[0] // 10, array_shape[1] // 8, array_shape[2])\n",
        "\n",
        "  # Split entire array with all numbers to single images\n",
        "  for i in range(rows):\n",
        "    row = np.array([])\n",
        "    for j in range(columns):\n",
        "      # Append single 7x5x3 picture\n",
        "      row = np.append(row,\n",
        "        all_images[\n",
        "          i*single_img_shape[0]:(i+1)*single_img_shape[0],\n",
        "          j*single_img_shape[1]:(j+1)*single_img_shape[1]\n",
        "        ]\n",
        "      )\n",
        "    # Append 8 pictures (row of 7x5x3 single pictures)\n",
        "    images = np.append(images, row)\n",
        "  # Make 2D array with 7x5x3 pictures\n",
        "  images = images.reshape(10, 8, 7, 5, 3)\n",
        "\n",
        "  print(\"Wymiar pojedynczego obrazka:\", images[0][0].shape)\n",
        "  print(\"Wymiar pojedynczego wiersza:\", images[0].shape)\n",
        "  print(\"Wymiar całej tablicy:\", images.shape)\n",
        "  print(\"Ilość liczb:\", images.size // (7*5*3))\n",
        "  show_image(images[0][0])"
      ],
      "execution_count": 2,
      "outputs": [
        {
          "output_type": "stream",
          "text": [
            "Wymiar pojedynczego obrazka: (7, 5, 3)\n",
            "Wymiar pojedynczego wiersza: (8, 7, 5, 3)\n",
            "Wymiar całej tablicy: (10, 8, 7, 5, 3)\n",
            "Ilość liczb: 80\n"
          ],
          "name": "stdout"
        },
        {
          "output_type": "display_data",
          "data": {
            "image/png": "[encoded data removed]",
            "text/plain": [
              "<Figure size 432x288 with 1 Axes>"
            ]
          },
          "metadata": {
            "tags": [],
            "needs_background": "light"
          }
        }
      ]
    },
    {
      "cell_type": "code",
      "metadata": {
        "id": "vOer6jRua37Q"
      },
      "source": [
        ""
      ],
      "execution_count": null,
      "outputs": []
    }
  ]
}