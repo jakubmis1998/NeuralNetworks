{
  "nbformat": 4,
  "nbformat_minor": 0,
  "metadata": {
    "colab": {
      "name": "zeroRecognition.ipynb",
      "provenance": [],
      "collapsed_sections": [],
      "authorship_tag": "ABX9TyOuG0s1QWJ7jYfiAcKnriS/",
      "include_colab_link": true
    },
    "kernelspec": {
      "name": "python3",
      "display_name": "Python 3"
    }
  },
  "cells": [
    {
      "cell_type": "markdown",
      "metadata": {
        "id": "view-in-github",
        "colab_type": "text"
      },
      "source": [
        "<a href=\"https://colab.research.google.com/github/jakubmis1998/NeuralNetworks/blob/main/zeroRecognition.ipynb\" target=\"_parent\"><img src=\"https://colab.research.google.com/assets/colab-badge.svg\" alt=\"Open In Colab\"/></a>"
      ]
    },
    {
      "cell_type": "code",
      "metadata": {
        "id": "2_sfjOjPB_wr",
        "outputId": "f33bbf86-d0bd-4786-a842-afb3cf68dede",
        "colab": {
          "base_uri": "https://localhost:8080/",
          "height": 335
        }
      },
      "source": [
        "# Mnist recognition\n",
        "\n",
        "import keras.preprocessing.image as kpi\n",
        "from matplotlib import pyplot as plt\n",
        "import numpy as np\n",
        "\n",
        "def split_into_2D(image_name):\n",
        "  # 2D array with single pictures\n",
        "  array_2D = np.array([])\n",
        "\n",
        "  # Load the main image\n",
        "  main_img = kpi.load_img(image_name)\n",
        "\n",
        "  # Convert to numpy array\n",
        "  all_images = kpi.img_to_array(main_img)  # RGB 0-255 values\n",
        "  all_images /= 255  # RGB 0-1 values\n",
        "\n",
        "  # 70 x 40 x 3 - H x W x RGB\n",
        "  array_shape = all_images.shape\n",
        "  rows, columns = 10, 8\n",
        "  # 7 x 5 x 3 - H x W x RGB\n",
        "  single_img_shape = (array_shape[0] // 10, array_shape[1] // 8, array_shape[2])\n",
        "\n",
        "  # Split entire array with all numbers to single images\n",
        "  for i in range(rows):\n",
        "    row = np.array([])\n",
        "    for j in range(columns):\n",
        "      # Create single 7x5x3 picture and remove RGB canal\n",
        "      single_image = all_images[\n",
        "        i*single_img_shape[0]:(i+1)*single_img_shape[0],\n",
        "        j*single_img_shape[1]:(j+1)*single_img_shape[1]\n",
        "      ][:, :, 0]\n",
        "      # Append single 7x5 picture\n",
        "      row = np.append(row, single_image)\n",
        "    # Append 8 pictures (row of 7x5 single pictures)\n",
        "    array_2D = np.append(array_2D, row)\n",
        "  \n",
        "  # Make 2D array with 7x5 pictures\n",
        "  array_2D = array_2D.reshape(10, 8, 7, 5)\n",
        "  print(\"Wymiar pojedynczego obrazka:\", array_2D[0][0].shape)\n",
        "  print(\"Wymiar pojedynczego wiersza:\", array_2D[0].shape)\n",
        "  print(\"Wymiar całej tablicy:\", array_2D.shape)\n",
        "  print(\"Ilość liczb:\", array_2D.size // (7*5))\n",
        "\n",
        "  return array_2D\n",
        "\n",
        "def show_image(img):\n",
        "  \"\"\"Show 2D image from NumPy array\"\"\"\n",
        "  plt.imshow(img)\n",
        "\n",
        "if __name__ == \"__main__\":\n",
        "  # An 2D array of single pictures\n",
        "  images = split_into_2D('mnist.png')\n",
        "\n",
        "  show_image(images[0][0])"
      ],
      "execution_count": 216,
      "outputs": [
        {
          "output_type": "stream",
          "text": [
            "Wymiar pojedynczego obrazka: (7, 5)\n",
            "Wymiar pojedynczego wiersza: (8, 7, 5)\n",
            "Wymiar całej tablicy: (10, 8, 7, 5)\n",
            "Ilość liczb: 80\n"
          ],
          "name": "stdout"
        },
        {
          "output_type": "display_data",
          "data": {
            "image/png": "[encoded data removed]",
            "text/plain": [
              "<Figure size 432x288 with 1 Axes>"
            ]
          },
          "metadata": {
            "tags": [],
            "needs_background": "light"
          }
        }
      ]
    }
  ]
}