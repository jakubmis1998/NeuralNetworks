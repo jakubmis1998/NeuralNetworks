{
  "nbformat": 4,
  "nbformat_minor": 0,
  "metadata": {
    "colab": {
      "name": "perceptron.ipynb",
      "provenance": [],
      "collapsed_sections": [],
      "authorship_tag": "ABX9TyOFaHC4x7l07VnZ80pehA8F",
      "include_colab_link": true
    },
    "kernelspec": {
      "name": "python3",
      "display_name": "Python 3"
    }
  },
  "cells": [
    {
      "cell_type": "markdown",
      "metadata": {
        "id": "view-in-github",
        "colab_type": "text"
      },
      "source": [
        "<a href=\"https://colab.research.google.com/github/jakubmis1998/NeuralNetworks/blob/main/SPLA.ipynb\" target=\"_parent\"><img src=\"https://colab.research.google.com/assets/colab-badge.svg\" alt=\"Open In Colab\"/></a>"
      ]
    },
    {
      "cell_type": "code",
      "metadata": {
        "id": "4TYTJmNxgUsb",
        "outputId": "c9e1b230-ec90-4d6f-e14b-0c0c8f0d37b0",
        "colab": {
          "base_uri": "https://localhost:8080/",
          "height": 281
        }
      },
      "source": [
        "# SPLA (Simple Perceptron Learning Algorithm)\n",
        "\n",
        "import numpy as np\n",
        "from matplotlib import pyplot as plt\n",
        "\n",
        "if __name__ == \"__main__\":\n",
        "  # 100 samples 2D moved over [4, 1]\n",
        "  A = np.random.randn(100, 2) + [4, 1]\n",
        "  # First and second column\n",
        "  Ax = A[:, 0]\n",
        "  Ay = A[:, 1]\n",
        "  # plt.scatter(Ax, Ay)\n",
        "\n",
        "  # 100 samples 2D moved over [-3, 0.5]\n",
        "  B = np.random.randn(100, 2) + [-3, 0.5]\n",
        "  Bx = B[:, 0]\n",
        "  By = B[:, 1]\n",
        "  # plt.scatter(Bx, By)\n",
        "\n",
        "  # Samples for perceptron learning\n",
        "  E = np.zeros((200, 2))\n",
        "  E[0:100] = A\n",
        "  E[100:200] = B\n",
        "\n",
        "  # True results for perceptron learning\n",
        "  T = np.zeros((200,))\n",
        "  T[0:100] = -1\n",
        "  T[100:200] = 1\n",
        "\n",
        "  # Plot with samples\n",
        "  plt.scatter(E[:, 0], E[:, 1], c=T)\n",
        "\n",
        "  # Perceptron learning variables\n",
        "  if_learning = True\n",
        "  learning_rate = 0.1\n",
        "  THETA = np.random.randn(1)\n",
        "  w = np.random.rand(1, N)  # Random weights\n",
        "  processed = np.full(k * N, False)  # Processed samples\n",
        "  k = 100\n",
        "  N = 2\n",
        "\n",
        "  # Perceptron learning\n",
        "  while if_learning:\n",
        "    # Random index of examples\n",
        "    j = np.random.randint(0, 200)\n",
        "\n",
        "    # Output - result of the neural operation on E[j] - single sample\n",
        "    O = 0\n",
        "    for i in range(N):\n",
        "      O += w[0][i] * E[j, i]\n",
        "    O -= THETA\n",
        "    if O >= 0:\n",
        "      O = 1\n",
        "    else:\n",
        "      O = -1\n",
        "\n",
        "    # Calculate error\n",
        "    ERR = T[j] - O\n",
        "\n",
        "    # Incorrect calculating\n",
        "    if ERR != 0:\n",
        "      # Vectors adding\n",
        "      for i in range(N):\n",
        "        w[0][i] += learning_rate * ERR * E[j, i]\n",
        "        THETA -= learning_rate * ERR\n",
        "      processed = np.full(k * N, False)  # Reset processed samples\n",
        "    else:\n",
        "      # Correct processed example\n",
        "      processed[j] = True  # Set as processed\n",
        "    \n",
        "    # All samples processed -> end of learning\n",
        "    if np.all(processed):\n",
        "      if_learning = False\n",
        "\n",
        "  # Draw plot\n",
        "  plt.title(\"SPLA\")\n",
        "  x1, x2 = -4, 4\n",
        "  plt.plot([x1, x2], [-w[0][0]/w[0][1] * x1 + THETA/w[0][1], -w[0][0]/w[0][1] * x2 + THETA/w[0][1]]);\n"
      ],
      "execution_count": 130,
      "outputs": [
        {
          "output_type": "display_data",
          "data": {
            "image/png": "[encoded data removed]",
            "text/plain": [
              "<Figure size 432x288 with 1 Axes>"
            ]
          },
          "metadata": {
            "tags": [],
            "needs_background": "light"
          }
        }
      ]
    },
    {
      "cell_type": "code",
      "metadata": {
        "id": "YMuV-PQshvn4"
      },
      "source": [
        ""
      ],
      "execution_count": null,
      "outputs": []
    }
  ]
}