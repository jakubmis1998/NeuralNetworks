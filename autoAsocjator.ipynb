{
  "nbformat": 4,
  "nbformat_minor": 0,
  "metadata": {
    "colab": {
      "name": "autoAsocjator.ipynb",
      "provenance": [],
      "collapsed_sections": [],
      "authorship_tag": "ABX9TyPqfX9ko8LJBOKMGrKzX0aw",
      "include_colab_link": true
    },
    "kernelspec": {
      "name": "python3",
      "display_name": "Python 3"
    }
  },
  "cells": [
    {
      "cell_type": "markdown",
      "metadata": {
        "id": "view-in-github",
        "colab_type": "text"
      },
      "source": [
        "<a href=\"https://colab.research.google.com/github/jakubmis1998/NeuralNetworks/blob/main/autoAsocjator.ipynb\" target=\"_parent\"><img src=\"https://colab.research.google.com/assets/colab-badge.svg\" alt=\"Open In Colab\"/></a>"
      ]
    },
    {
      "cell_type": "code",
      "metadata": {
        "id": "QR8BfxFcM40h",
        "outputId": "f385f7c4-2095-4a7d-e397-c8f10dd673b1",
        "colab": {
          "base_uri": "https://localhost:8080/",
          "height": 267
        }
      },
      "source": [
        "# Auto asocjator\n",
        "\n",
        "import keras.preprocessing.image as kpi\n",
        "from matplotlib import pyplot as plt\n",
        "import numpy as np\n",
        "\n",
        "def show_image(img):\n",
        "  \"\"\"Show 2D image from NumPy array\"\"\"\n",
        "  plt.imshow(img, cmap=\"gray\")\n",
        "\n",
        "def get_images():\n",
        "  filenames = ['car.png', 'face.png', 'flower.png', 'mush.png', 'sun.png']\n",
        "  images = np.array([])\n",
        "  for filename in filenames:\n",
        "    image = kpi.load_img(filename)  # Load image as NumPy array\n",
        "    images = np.append(images, kpi.img_to_array(image)[:, :, 0])  # Only R canal\n",
        "  images = images.reshape(5, 50, 50)  # 5 pictures 50pxx50px\n",
        "  images /= 255.0  # Array values 0-1\n",
        "  return images\n",
        "\n",
        "\n",
        "if __name__ == \"__main__\":\n",
        "\n",
        "  images = get_images()\n",
        "  show_image(images[1])\n"
      ],
      "execution_count": 26,
      "outputs": [
        {
          "output_type": "display_data",
          "data": {
            "image/png": "[encoded data removed]",
            "text/plain": [
              "<Figure size 432x288 with 1 Axes>"
            ]
          },
          "metadata": {
            "tags": [],
            "needs_background": "light"
          }
        }
      ]
    }
  ]
}